{
 "cells": [
  {
   "cell_type": "markdown",
   "metadata": {},
   "source": [
    "# Working Capital Management\n",
    "#### A company's short term financial decisions and the way they affect current assets and current liabilities\n",
    "##### Colect early and pay late\n",
    "\n",
    "$$\n",
    "\\text{Enough capital to cover day-to-day expenses} \\\\\n",
    "\\text{Capital is invested in the most productive way}\n",
    "$$"
   ]
  },
  {
   "cell_type": "markdown",
   "metadata": {},
   "source": [
    "##### Notes:\n",
    "\n",
    "$$ \\text{Order of Liquidity} \\Rightarrow \\text{The presentation of assets on the balance sheet by how quickly they can be converted to cash} $$"
   ]
  },
  {
   "cell_type": "markdown",
   "metadata": {},
   "source": [
    "## Liquidity\n",
    "#### The extent to which a firm is able to meet is short term obligations by converting assets to cash without a significant loss of value\n",
    "\n",
    "### Primary Sources\n",
    "Ready cash balances:\n",
    "$$ \n",
    "\\Rightarrow\\text{selling goods or services}\\\\\n",
    "\\Rightarrow\\text{holding short-term instruments(e.g. Bank Certificates, US Treasury Bills, Commercial Papper)}\\\\\n",
    "$$\n",
    "Short-term funds:\n",
    "$$\n",
    "\\Rightarrow\\text{trade credits}\\\\\n",
    "\\Rightarrow\\text{bank lines of credit}\\\\\n",
    "$$\n",
    "Cash flow management\n",
    "\n",
    "### Secondary Sources \n",
    "(Note part of a company's day-to-day operations and could potencially impact the firm's financial structure)\n",
    "\n",
    "Liquidating short or long-term assets\n",
    "\n",
    "Debt renegotiation\n",
    "\n",
    "File for bankruptcy and subsequent reorganization"
   ]
  },
  {
   "cell_type": "markdown",
   "metadata": {},
   "source": [
    "## Liquidity Measure Ratios\n",
    "#### Measure liquidity by showing the relationship between current assets and current liabilities"
   ]
  },
  {
   "cell_type": "code",
   "execution_count": 57,
   "metadata": {},
   "outputs": [],
   "source": [
    "# Data Example (Partial Balance Sheet)\n",
    "current_assets = [ \n",
    "       # year 1\n",
    "    {\n",
    "        'cash' : 12e+6,\n",
    "        'marketable_securities' : 1.8e+6,\n",
    "        'accounts_receivable' : 95e+6,\n",
    "        'inventory' : 105e+6\n",
    "    }, # year 2\n",
    "    {\n",
    "        'cash' : 15e+6,\n",
    "        'marketable_securities' : 2e+6,\n",
    "        'accounts_receivable' : 85e+6,\n",
    "        'inventory' : 120e+6\n",
    "    }, # year 3\n",
    "    {\n",
    "        'cash' : 28e+6,\n",
    "        'marketable_securities' : 3e+6,\n",
    "        'accounts_receivable' : 72e+6,\n",
    "        'inventory' : 140e+6\n",
    "    }\n",
    "]\n",
    "current_liabilities = [\n",
    "       # year 1\n",
    "    {\n",
    "        'accounts_payable' : 56e+6,\n",
    "        'accrued_expenses' : 4.2e+6,\n",
    "        'notes_payable' : 25e+6\n",
    "    }, # year 2\n",
    "    {\n",
    "        'accounts_payable' : 62e+6,\n",
    "        'accrued_expenses' : 3e+6,\n",
    "        'notes_payable' : 22e+6\n",
    "    }, # year 3\n",
    "    {\n",
    "        'accounts_payable' : 77e+6,\n",
    "        'accrued_expenses' : 1.5e+6,\n",
    "        'notes_payable' : 15e+6\n",
    "    }\n",
    "]\n",
    "\n",
    "# Data Example (Partial Income Statement)\n",
    "income_statement = [\n",
    "    # year 1\n",
    "    { \n",
    "        'net_sales' : 0, # n/a\n",
    "        'cost_of_goods_sold' : 0 # n/a\n",
    "    },\n",
    "    # year 2\n",
    "    { \n",
    "        'net_sales' : 370e+6,\n",
    "        'cost_of_goods_sold' : 259e+6\n",
    "    },\n",
    "    # year 3\n",
    "    { \n",
    "        'net_sales' : 400e+6,\n",
    "        'cost_of_goods_sold' : 280e+6\n",
    "    },\n",
    "]"
   ]
  },
  {
   "cell_type": "markdown",
   "metadata": {},
   "source": [
    "### Current Ratio\n",
    "\n",
    "$$ Current Ratio = \\frac{Current Assets}{Current Liabilities} $$"
   ]
  },
  {
   "cell_type": "code",
   "execution_count": 2,
   "metadata": {},
   "outputs": [],
   "source": [
    "def current_ratio(current_assets, current_liabilities):\n",
    "    current_assets_total = \\\n",
    "        current_assets['cash'] + \\\n",
    "        current_assets['marketable_securities'] + \\\n",
    "        current_assets['accounts_receivable'] + \\\n",
    "        current_assets['inventory']\n",
    "    current_liabilities_total = \\\n",
    "        current_liabilities['accounts_payable'] + \\\n",
    "        current_liabilities['accrued_expenses'] + \\\n",
    "        current_liabilities['notes_payable']\n",
    "    \n",
    "    return current_assets_total / current_liabilities_total "
   ]
  },
  {
   "cell_type": "markdown",
   "metadata": {},
   "source": [
    "##### Notes:\n",
    "$$\n",
    "\\text{Current Assets: Cash, Marketable Securities, Accounts Receivable, Inventory} \\\\\n",
    "\\text{Current Liabilities: Accounts Payable, Accrued Expenses, Notes Payable} \\\\\n",
    "$$"
   ]
  },
  {
   "cell_type": "code",
   "execution_count": 34,
   "metadata": {},
   "outputs": [
    {
     "name": "stdout",
     "output_type": "stream",
     "text": [
      "2.51\n",
      "2.55\n",
      "2.6\n"
     ]
    }
   ],
   "source": [
    "current_ratio_year_1 = round(current_ratio(current_assets[0], current_liabilities[0]), 2)\n",
    "current_ratio_year_2 = round(current_ratio(current_assets[1], current_liabilities[1]), 2)\n",
    "current_ratio_year_3 = round(current_ratio(current_assets[2], current_liabilities[2]), 2)\n",
    "print(current_ratio_year_1)\n",
    "print(current_ratio_year_2)\n",
    "print(current_ratio_year_3)"
   ]
  },
  {
   "cell_type": "markdown",
   "metadata": {},
   "source": [
    "### Quick Ratio\n",
    "Considers only Assets that can easely be converted to cash(i.e., excludes Inventory)\n",
    "\n",
    "$$ Quick Ratio = \\frac{Cash + Marketable Securities + Accounts Receivable}{Current Liabilities} $$"
   ]
  },
  {
   "cell_type": "code",
   "execution_count": 4,
   "metadata": {},
   "outputs": [],
   "source": [
    "def quick_ratio(current_most_liquid_assets, current_liabilities):\n",
    "    current_most_liquid_assets_total = \\\n",
    "        current_most_liquid_assets['cash'] + \\\n",
    "        current_most_liquid_assets['marketable_securities'] + \\\n",
    "        current_most_liquid_assets['accounts_receivable']\n",
    "    current_liabilities_total = \\\n",
    "        current_liabilities['accounts_payable'] + \\\n",
    "        current_liabilities['accrued_expenses'] + \\\n",
    "        current_liabilities['notes_payable']\n",
    "    \n",
    "    return current_most_liquid_assets_total / current_liabilities_total "
   ]
  },
  {
   "cell_type": "code",
   "execution_count": 36,
   "metadata": {},
   "outputs": [
    {
     "name": "stdout",
     "output_type": "stream",
     "text": [
      "1.28\n",
      "1.17\n",
      "1.1\n"
     ]
    }
   ],
   "source": [
    "quick_ration_year_1 = round(quick_ratio(current_assets[0], current_liabilities[0]), 2)\n",
    "quick_ration_year_2 = round(quick_ratio(current_assets[1], current_liabilities[1]), 2)\n",
    "quick_ration_year_3 = round(quick_ratio(current_assets[2], current_liabilities[2]), 2)\n",
    "print(quick_ration_year_1)\n",
    "print(quick_ration_year_2)\n",
    "print(quick_ration_year_3)"
   ]
  },
  {
   "cell_type": "markdown",
   "metadata": {},
   "source": [
    "### Accounts Receivable Turnover\n",
    "##### Measures the number of times a company creates account receivables from credit sales for a given period\n",
    "##### Measures how quickly a firm converts its receivables to cash\n",
    "\n",
    "$$ Accounts Receivable Turnover = \\frac{Credit Sales}{Average Receivables} $$"
   ]
  },
  {
   "cell_type": "code",
   "execution_count": 15,
   "metadata": {},
   "outputs": [],
   "source": [
    "def accounts_receivable_turnover(credit_sales, average_receivables):\n",
    "    return credit_sales / average_receivables"
   ]
  },
  {
   "cell_type": "code",
   "execution_count": 43,
   "metadata": {},
   "outputs": [],
   "source": [
    "from statistics import mean"
   ]
  },
  {
   "cell_type": "code",
   "execution_count": 59,
   "metadata": {},
   "outputs": [
    {
     "name": "stdout",
     "output_type": "stream",
     "text": [
      "4.111111111111111\n",
      "5.095541401273885\n"
     ]
    }
   ],
   "source": [
    "accounts_receivable_turnover_year_2 = accounts_receivable_turnover(\n",
    "    income_statement[1]['net_sales'], # Important!!! simplified assumtion\n",
    "    mean([\n",
    "        current_assets[0]['accounts_receivable'], \n",
    "        current_assets[1]['accounts_receivable'] \n",
    "    ])\n",
    ")\n",
    "accounts_receivable_turnover_year_3 = accounts_receivable_turnover(\n",
    "    income_statement[2]['net_sales'], # Important!!! simplified assumtion\n",
    "    mean([\n",
    "        current_assets[1]['accounts_receivable'], \n",
    "        current_assets[2]['accounts_receivable'] \n",
    "    ])\n",
    ")\n",
    "print(accounts_receivable_turnover_year_2)\n",
    "print(accounts_receivable_turnover_year_3)"
   ]
  },
  {
   "cell_type": "markdown",
   "metadata": {},
   "source": [
    "### Number of Days of Receivables\n",
    "\n",
    "##### The average number of day it takes to collect invoked receivables\n",
    "\n",
    "$$ Number Days Receivables = \\frac{365}{Accounts Receivables Turnover} $$"
   ]
  },
  {
   "cell_type": "code",
   "execution_count": 63,
   "metadata": {},
   "outputs": [
    {
     "name": "stdout",
     "output_type": "stream",
     "text": [
      "It took 89 days on average to collect invoked receivables on the second year\n",
      "It took 72 days on average to collect invoked receivables on the third year\n"
     ]
    }
   ],
   "source": [
    "number_days_receivables_year_2 = 365 / accounts_receivable_turnover_year_2\n",
    "number_days_receivables_year_3 = 365 / accounts_receivable_turnover_year_3\n",
    "print(\"It took \" + str(round(number_days_receivables_year_2)) + \" days on average to collect invoked receivables on the second year\")\n",
    "print(\"It took \" + str(round(number_days_receivables_year_3)) + \" days on average to collect invoked receivables on the third year\")"
   ]
  },
  {
   "cell_type": "markdown",
   "metadata": {},
   "source": [
    "### Inventory Turnover\n",
    "\n",
    "$$ Inventory Turnover = \\frac{Cost Of Goods Sold}{Average Inventory} $$"
   ]
  },
  {
   "cell_type": "code",
   "execution_count": 38,
   "metadata": {},
   "outputs": [],
   "source": [
    "def inventory_turnover(cost_of_goods_sold, average_inventory):\n",
    "    return cost_of_goods_sold / average_inventory"
   ]
  },
  {
   "cell_type": "code",
   "execution_count": 55,
   "metadata": {},
   "outputs": [
    {
     "name": "stdout",
     "output_type": "stream",
     "text": [
      "2.3022222222222224\n",
      "2.1538461538461537\n"
     ]
    }
   ],
   "source": [
    "inventory_turnover_year_2 = \\\n",
    "    inventory_turnover(\n",
    "        income_statement[1]['cost_of_goods_sold'],\n",
    "        mean([\n",
    "            current_assets[0]['inventory'],\n",
    "            current_assets[1]['inventory']\n",
    "        ])\n",
    "    )\n",
    "inventory_turnover_year_3 = \\\n",
    "    inventory_turnover(\n",
    "        income_statement[2]['cost_of_goods_sold'],\n",
    "        mean([\n",
    "            current_assets[1]['inventory'],\n",
    "            current_assets[2]['inventory']\n",
    "        ])\n",
    "    )\n",
    "print(inventory_turnover_year_2)\n",
    "print(inventory_turnover_year_3)"
   ]
  },
  {
   "cell_type": "markdown",
   "metadata": {},
   "source": [
    "### Number of Days of Inventory / Average Inventory Period\n",
    "\n",
    "##### The average number of days it takes for a firm to sell of its inventory\n",
    "\n",
    "$$ Number Days Inventory = \\frac{365}{Inventory Turnover} $$"
   ]
  },
  {
   "cell_type": "code",
   "execution_count": 62,
   "metadata": {},
   "outputs": [
    {
     "name": "stdout",
     "output_type": "stream",
     "text": [
      "It took 159 days on average to sell inventory on the second year\n",
      "It took 169 days on average to sell inventory on the third year\n"
     ]
    }
   ],
   "source": [
    "number_days_inventory_year_2 = 365 / inventory_turnover_year_2\n",
    "number_days_inventory_year_3 = 365 / inventory_turnover_year_3\n",
    "print(\"It took \" + str(round(number_days_inventory_year_2)) + \" days on average to sell inventory on the second year\")\n",
    "print(\"It took \" + str(round(number_days_inventory_year_3)) + \" days on average to sell inventory on the third year\")"
   ]
  },
  {
   "cell_type": "markdown",
   "metadata": {},
   "source": [
    "##### Notes:\n",
    "$$\n",
    "\\text{Asset Management Ratios} \\\\ \\Rightarrow \\text{Measures how efectively a company uses is current assets to generate sales}\n",
    "$$"
   ]
  },
  {
   "cell_type": "markdown",
   "metadata": {},
   "source": [
    "### Payables Turnover\n",
    "\n",
    "##### Measures how quicky a company pays of its obligations to supliers and vendors\n",
    "\n",
    "$$ Payables Turnover = \\frac{Purchases}{Average Accounts Payable} $$"
   ]
  },
  {
   "cell_type": "code",
   "execution_count": 48,
   "metadata": {},
   "outputs": [],
   "source": [
    "def payables_turnover(purchases, average_accounts_payable):\n",
    "    return purchases / average_accounts_payable"
   ]
  },
  {
   "cell_type": "code",
   "execution_count": 65,
   "metadata": {},
   "outputs": [
    {
     "name": "stdout",
     "output_type": "stream",
     "text": [
      "4.6440677966101696\n",
      "4.316546762589928\n"
     ]
    }
   ],
   "source": [
    "purchases_year_2 = \\\n",
    "    income_statement[1]['cost_of_goods_sold'] + \\\n",
    "    current_assets[1]['inventory'] - \\\n",
    "    current_assets[0]['inventory']\n",
    "purchases_year_3 = \\\n",
    "    income_statement[2]['cost_of_goods_sold'] + \\\n",
    "    current_assets[2]['inventory'] - \\\n",
    "    current_assets[1]['inventory']\n",
    "payables_turnover_year_2 = payables_turnover(\n",
    "    purchases_year_2,\n",
    "    mean([\n",
    "        current_liabilities[0]['accounts_payable'],\n",
    "        current_liabilities[1]['accounts_payable']\n",
    "    ])\n",
    ")\n",
    "payables_turnover_year_3 = payables_turnover(\n",
    "    purchases_year_3,\n",
    "    mean([\n",
    "        current_liabilities[1]['accounts_payable'],\n",
    "        current_liabilities[2]['accounts_payable']\n",
    "    ])\n",
    ")\n",
    "print(payables_turnover_year_2)\n",
    "print(payables_turnover_year_3)"
   ]
  },
  {
   "cell_type": "markdown",
   "metadata": {},
   "source": [
    "##### Notes:\n",
    "$$\n",
    "Purchases = Cost Of Goods Sold + Ending Inventory - Beguinning Inventory \\equiv \\\\\n",
    "COGS = Beguinning Inventory + Purchases - Ending Inventory\n",
    "$$"
   ]
  },
  {
   "cell_type": "markdown",
   "metadata": {},
   "source": [
    "### Number of Days Payables / Average Days Payable\n",
    "\n",
    "##### The average number of days it takes a company to pay its suppliers\n",
    "\n",
    "$$ Number Days Payables = \\frac{365}{Payables Turnover Ratio} $$"
   ]
  },
  {
   "cell_type": "code",
   "execution_count": 66,
   "metadata": {},
   "outputs": [
    {
     "name": "stdout",
     "output_type": "stream",
     "text": [
      "It took 79 days on average for the company to pay its suppliers on the second year\n",
      "It took 85 days on average for the company to pay its suppliers on the third year\n"
     ]
    }
   ],
   "source": [
    "number_days_payables_year_2 = 365 / payables_turnover_year_2\n",
    "number_days_payables_year_3 = 365 / payables_turnover_year_3\n",
    "print(\"It took \" + str(round(number_days_payables_year_2)) + \" days on average for the company to pay its suppliers on the second year\")\n",
    "print(\"It took \" + str(round(number_days_payables_year_3)) + \" days on average for the company to pay its suppliers on the third year\")"
   ]
  },
  {
   "cell_type": "markdown",
   "metadata": {},
   "source": [
    "##### Notes:\n",
    "\n",
    "When estimating this measures we need to consider a number of different factors such as the historical trend of a given ratio and the industry norms for that specific indicator."
   ]
  },
  {
   "cell_type": "code",
   "execution_count": 6,
   "metadata": {},
   "outputs": [],
   "source": [
    "import matplotlib.pyplot as plt"
   ]
  },
  {
   "cell_type": "code",
   "execution_count": 13,
   "metadata": {
    "scrolled": true
   },
   "outputs": [
    {
     "data": {
      "image/png": "[encoded data removed]",
      "text/plain": [
       "<Figure size 432x288 with 1 Axes>"
      ]
     },
     "metadata": {
      "needs_background": "light"
     },
     "output_type": "display_data"
    }
   ],
   "source": [
    "plt.plot([1, 2, 3], \\\n",
    "         [quick_ratio(current_assets[0], current_liabilities[0]), \\\n",
    "         quick_ratio(current_assets[1], current_liabilities[1]),\n",
    "         quick_ratio(current_assets[2], current_liabilities[2])]\n",
    "        )\n",
    "plt.xticks([1, 2, 3])\n",
    "plt.xlabel('Year');"
   ]
  },
  {
   "cell_type": "markdown",
   "metadata": {},
   "source": [
    "## Operating Cycle / Working Capital Cycle\n",
    "\n",
    "$$\n",
    "Operating Cycle = Number Days Inventory + Number Days Receivables \\\\\n",
    "Net Operating Cycle = Operating Cycle - Average Days Payable \\\\\n",
    "$$"
   ]
  },
  {
   "cell_type": "code",
   "execution_count": null,
   "metadata": {},
   "outputs": [],
   "source": []
  },
  {
   "cell_type": "markdown",
   "metadata": {},
   "source": [
    "##### Notes:\n",
    "\n",
    "$$\n",
    "\\text{Operating Cycle} \\Rightarrow \\text{The average number of days it takes to turn raw materials into cash proceeds} \\\\\n",
    "\\text{Number of Days of Inventory} \\Rightarrow \\text{The time it takes for a company to aquire and sell its inventory} \\\\\n",
    "\\text{Number of Days of Receivables} \\Rightarrow \\text{The time it takes a company to collect debt on a given sale} \\\\\n",
    "\\text{Average Days Payable} \\Rightarrow \\text{The time it takes from getting the raw materials until we pay the supplier}\n",
    "\\text{Net Operating Cycle / Cash Conversion Cycle} \\Rightarrow \\text{The time we pay the supplier(cash out) until we collect debt from the buyer(cash in)}\n",
    "$$"
   ]
  },
  {
   "cell_type": "markdown",
   "metadata": {},
   "source": [
    "## Working Capital Portfolio\n",
    "\n",
    "$$\n",
    "\\text{Highly liquid short-term securities that have a small chance of default and trade on the money market:} \\\\\n",
    "\\Rightarrow \\text{U.S. Treasury bills} \\\\\n",
    "\\Rightarrow \\text{Federal agency securities} \\\\\n",
    "\\Rightarrow \\text{Time deposits} \\\\\n",
    "\\Rightarrow \\text{Repurchase agreements} \\\\\n",
    "\\Rightarrow \\text{Banker's Acceptances} \\\\\n",
    "\\Rightarrow \\text{Commercial paper} \\\\\n",
    "\\Rightarrow \\text{Money market mutual funds} \\\\\n",
    "\\Rightarrow \\text{Tax-advantaged securities} \\\\\n",
    "$$"
   ]
  },
  {
   "cell_type": "markdown",
   "metadata": {},
   "source": [
    "### Discount-basis Yield\n",
    "\n",
    "$$\n",
    "r_{BD} = \\frac{D}{F}x\\frac{360}{t} \\\\\n",
    "r_{BD} = \\text{annualized yield on a bank discount basis} \\\\\n",
    "D = \\text{Dollar discount(Face value - Purchase price)} \\\\\n",
    "F = \\text{Face value of T-bill} \\\\\n",
    "t = \\text{number of days remaining to maturity} \\\\\n",
    "360 = \\text{number of days in a year used as a banking conversion}\n",
    "$$"
   ]
  },
  {
   "cell_type": "code",
   "execution_count": 3,
   "metadata": {},
   "outputs": [],
   "source": [
    "def discount_basis_yield(D, F, t):\n",
    "    return (D/F)*(360/t)"
   ]
  },
  {
   "cell_type": "code",
   "execution_count": 4,
   "metadata": {},
   "outputs": [],
   "source": [
    "# Data example\n",
    "face_value_F = 1000\n",
    "purchase_price = 980\n",
    "t = 150 # days"
   ]
  },
  {
   "cell_type": "code",
   "execution_count": 5,
   "metadata": {},
   "outputs": [
    {
     "name": "stdout",
     "output_type": "stream",
     "text": [
      "0.048\n"
     ]
    }
   ],
   "source": [
    "dollar_price_D = face_value_F - purchase_price\n",
    "print(discount_basis_yield(dollar_price_D, face_value_F, t))"
   ]
  },
  {
   "cell_type": "markdown",
   "metadata": {},
   "source": [
    "### Money Market Yield\n",
    "\n",
    "$$\n",
    "Money Market Yield = \\frac{Face Value - Purchase Price}{Purchase Price} * \\frac{360}{t} \\\\\n",
    "Holding Period Return HPR = \\frac{Face Value - Purchase Price}{Purchase Price}\n",
    "$$"
   ]
  },
  {
   "cell_type": "code",
   "execution_count": 6,
   "metadata": {},
   "outputs": [],
   "source": [
    "def money_market_yield(face_value, purchase_price, t):\n",
    "    return ((face_value - purchase_price)/purchase_price)*(360/t)"
   ]
  },
  {
   "cell_type": "code",
   "execution_count": 9,
   "metadata": {},
   "outputs": [
    {
     "name": "stdout",
     "output_type": "stream",
     "text": [
      "0.049\n"
     ]
    }
   ],
   "source": [
    "print(round(money_market_yield(face_value_F, purchase_price, t), 3))"
   ]
  },
  {
   "cell_type": "markdown",
   "metadata": {},
   "source": [
    "## Bond Equivalent Yield\n",
    "\n",
    "$$\n",
    "Bond Equivalent Yield = \\frac{Face Value - Purchase Price}{Purchase Price} * \\frac{365}{t} \\\\\n",
    "Holding Period Return HPR = \\frac{Face Value - Purchase Price}{Purchase Price}\n",
    "$$"
   ]
  },
  {
   "cell_type": "code",
   "execution_count": 10,
   "metadata": {},
   "outputs": [],
   "source": [
    "def bond_equivalent_yield(face_value, purchase_price, t):\n",
    "    return ((face_value - purchase_price)/purchase_price)*(365/t)"
   ]
  },
  {
   "cell_type": "code",
   "execution_count": 11,
   "metadata": {},
   "outputs": [
    {
     "name": "stdout",
     "output_type": "stream",
     "text": [
      "0.05\n"
     ]
    }
   ],
   "source": [
    "print(round(bond_equivalent_yield(face_value_F, purchase_price, t), 3))"
   ]
  }
 ],
 "metadata": {
  "kernelspec": {
   "display_name": "Python 3",
   "language": "python",
   "name": "python3"
  },
  "language_info": {
   "codemirror_mode": {
    "name": "ipython",
    "version": 3
   },
   "file_extension": ".py",
   "mimetype": "text/x-python",
   "name": "python",
   "nbconvert_exporter": "python",
   "pygments_lexer": "ipython3",
   "version": "3.8.3"
  }
 },
 "nbformat": 4,
 "nbformat_minor": 4
}
