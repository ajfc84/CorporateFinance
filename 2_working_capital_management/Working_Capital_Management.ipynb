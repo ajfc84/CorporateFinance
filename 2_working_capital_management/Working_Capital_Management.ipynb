{
 "cells": [
  {
   "cell_type": "markdown",
   "metadata": {},
   "source": [
    "# Working Capital Management\n",
    "#### A company's short term financial decisions and the way they affect current assets and current liabilities\n",
    "##### Colect early and pay late\n",
    "\n",
    "$$\n",
    "\\text{Enough capital to cover day-to-day expenses} \\\\\n",
    "\\text{Capital is invested in the most productive way}\n",
    "$$"
   ]
  },
  {
   "cell_type": "markdown",
   "metadata": {},
   "source": [
    "##### Notes:\n",
    "\n",
    "$$ \\text{Order of Liquidity} \\Rightarrow \\text{The presentation of assets on the balance sheet by how quickly they can be converted to cash} $$"
   ]
  },
  {
   "cell_type": "markdown",
   "metadata": {},
   "source": [
    "## Liquidity\n",
    "#### The extent to which a firm is able to meet is short term obligations by converting assets to cash without a significant loss of value\n",
    "\n",
    "### Primary Sources\n",
    "Ready cash balances:\n",
    "$$ \n",
    "\\Rightarrow\\text{selling goods or services}\\\\\n",
    "\\Rightarrow\\text{holding short-term instruments(e.g. Bank Certificates, US Treasury Bills, Commercial Papper)}\\\\\n",
    "$$\n",
    "Short-term funds:\n",
    "$$\n",
    "\\Rightarrow\\text{trade credits}\\\\\n",
    "\\Rightarrow\\text{bank lines of credit}\\\\\n",
    "$$\n",
    "Cash flow management\n",
    "\n",
    "### Secondary Sources \n",
    "(Note part of a company's day-to-day operations and could potencially impact the firm's financial structure)\n",
    "\n",
    "Liquidating short or long-term assets\n",
    "\n",
    "Debt renegotiation\n",
    "\n",
    "File for bankruptcy and subsequent reorganization"
   ]
  },
  {
   "cell_type": "markdown",
   "metadata": {},
   "source": [
    "## Liquidity Measure Ratios\n",
    "#### Measure liquidity by showing the relationship between current assets and current liabilities"
   ]
  },
  {
   "cell_type": "markdown",
   "metadata": {},
   "source": [
    "### Current Ratio\n",
    "\n",
    "$$ Current Ratio = \\frac{Current Assets}{Current Liabilities} $$"
   ]
  },
  {
   "cell_type": "code",
   "execution_count": 1,
   "metadata": {},
   "outputs": [],
   "source": [
    "def current_ratio(current_assets, current_liabilities):\n",
    "    current_assets_total = \\\n",
    "        current_assets['cash'] + \\\n",
    "        current_assets['marketable_securities'] + \\\n",
    "        current_assets['accounts_receivable'] + \\\n",
    "        current_assets['inventory']\n",
    "    current_liabilities_total = \\\n",
    "        current_liabilities['accounts_payable'] + \\\n",
    "        current_liabilities['accrued_expenses'] + \\\n",
    "        current_liabilities['notes_payable']\n",
    "    \n",
    "    return current_assets_total / current_liabilities_total "
   ]
  },
  {
   "cell_type": "markdown",
   "metadata": {},
   "source": [
    "##### Notes:\n",
    "$$\n",
    "\\text{Current Assets: Cash, Marketable Securities, Accounts Receivable, Inventory} \\\\\n",
    "\\text{Current Liabilities: Accounts Payable, Accrued Expenses, Notes Payable} \\\\\n",
    "$$"
   ]
  },
  {
   "cell_type": "code",
   "execution_count": 2,
   "metadata": {},
   "outputs": [],
   "source": [
    "# Data example\n",
    "current_assets = {\n",
    "    'cash' : 1,\n",
    "    'marketable_securities' : 1,\n",
    "    'accounts_receivable' : 1,\n",
    "    'inventory' : 1\n",
    "}\n",
    "current_liabilities = {\n",
    "    'accounts_payable' : 1,\n",
    "    'accrued_expenses' : 1,\n",
    "    'notes_payable' : 1\n",
    "}"
   ]
  },
  {
   "cell_type": "code",
   "execution_count": 4,
   "metadata": {},
   "outputs": [
    {
     "name": "stdout",
     "output_type": "stream",
     "text": [
      "1.3333333333333333\n"
     ]
    }
   ],
   "source": [
    "print(current_ratio(current_assets, current_liabilities))"
   ]
  },
  {
   "cell_type": "markdown",
   "metadata": {},
   "source": [
    "### Quick Ratio\n",
    "Considers only Assets that can easely be converted to cash(i.e., excludes Inventory)\n",
    "\n",
    "$$ Quick Ratio = \\frac{Cash + Marketable Securities + Accounts Receivable}{Current Liabilities} $$"
   ]
  },
  {
   "cell_type": "code",
   "execution_count": 5,
   "metadata": {},
   "outputs": [],
   "source": [
    "def quick_ratio(current_most_liquid_assets, current_liabilities):\n",
    "    current_most_liquid_assets_total = \\\n",
    "        current_most_liquid_assets['cash'] + \\\n",
    "        current_most_liquid_assets['marketable_securities'] + \\\n",
    "        current_most_liquid_assets['accounts_receivable']\n",
    "    current_liabilities_total = \\\n",
    "        current_liabilities['accounts_payable'] + \\\n",
    "        current_liabilities['accrued_expenses'] + \\\n",
    "        current_liabilities['notes_payable']\n",
    "    \n",
    "    return current_most_liquid_assets_total / current_liabilities_total "
   ]
  },
  {
   "cell_type": "code",
   "execution_count": 6,
   "metadata": {},
   "outputs": [],
   "source": [
    "# Data example\n",
    "current_most_liquid_assets = {\n",
    "    'cash' : 1,\n",
    "    'marketable_securities' : 1,\n",
    "    'accounts_receivable' : 1\n",
    "}\n",
    "current_liabilities = {\n",
    "    'accounts_payable' : 1,\n",
    "    'accrued_expenses' : 1,\n",
    "    'notes_payable' : 1\n",
    "}"
   ]
  },
  {
   "cell_type": "code",
   "execution_count": 7,
   "metadata": {},
   "outputs": [
    {
     "name": "stdout",
     "output_type": "stream",
     "text": [
      "1.0\n"
     ]
    }
   ],
   "source": [
    "print(quick_ratio(current_most_liquid_assets, current_liabilities))"
   ]
  },
  {
   "cell_type": "markdown",
   "metadata": {},
   "source": [
    "### Accounts Receivable Turnover\n",
    "##### Measures the number of times a company creates account receivables from credit sales for a given period\n",
    "##### Measures how quickly a firm converts its receivables to cash\n",
    "\n",
    "$$ Accounts Receivable Turnover = \\frac{Credit Sales}{Average Receivables} $$"
   ]
  },
  {
   "cell_type": "code",
   "execution_count": null,
   "metadata": {},
   "outputs": [],
   "source": []
  },
  {
   "cell_type": "markdown",
   "metadata": {},
   "source": [
    "### Number of Days of Receivables\n",
    "\n",
    "##### The average number of day it takes to collect invoked receivables\n",
    "\n",
    "$$ Number Days Receivables = \\frac{365}{Accounts Receivables Turnover} $$"
   ]
  },
  {
   "cell_type": "code",
   "execution_count": null,
   "metadata": {},
   "outputs": [],
   "source": []
  },
  {
   "cell_type": "markdown",
   "metadata": {},
   "source": [
    "### Inventory Turnover\n",
    "\n",
    "$$ Inventory Turnover = \\frac{Cost Of Goods Sold}{Average Inventory} $$"
   ]
  },
  {
   "cell_type": "code",
   "execution_count": null,
   "metadata": {},
   "outputs": [],
   "source": []
  },
  {
   "cell_type": "markdown",
   "metadata": {},
   "source": [
    "### Number of Days of Inventory / Average Inventory Period\n",
    "\n",
    "##### The average number of days it takes for a firm to sell of its inventory\n",
    "\n",
    "$$ Number Days Inventory = \\frac{365}{Inventory Turnover} $$"
   ]
  },
  {
   "cell_type": "code",
   "execution_count": null,
   "metadata": {},
   "outputs": [],
   "source": []
  },
  {
   "cell_type": "markdown",
   "metadata": {},
   "source": [
    "##### Notes:\n",
    "$$\n",
    "\\text{Asset Management Ratios} \\\\ \\Rightarrow \\text{Measures how efectively a company uses is current assets to generate sales}\n",
    "$$"
   ]
  },
  {
   "cell_type": "markdown",
   "metadata": {},
   "source": [
    "### Payables Turnover\n",
    "\n",
    "##### Measures how quicky a company pays of its obligations to supliers and vendors\n",
    "\n",
    "$$ Payables Turnover = \\frac{Purchases}{Average Accounts Payable} $$"
   ]
  },
  {
   "cell_type": "code",
   "execution_count": null,
   "metadata": {},
   "outputs": [],
   "source": []
  },
  {
   "cell_type": "markdown",
   "metadata": {},
   "source": [
    "##### Notes:\n",
    "$$\n",
    "Purchases = Cost Of Goods Sold + Ending Inventory - Beguinning Inventory\n",
    "$$"
   ]
  },
  {
   "cell_type": "code",
   "execution_count": null,
   "metadata": {},
   "outputs": [],
   "source": []
  },
  {
   "cell_type": "markdown",
   "metadata": {},
   "source": [
    "### Number of Days Payables / Average Days Payable\n",
    "\n",
    "##### The average number od days it takes a company to pay its suppliers\n",
    "\n",
    "$$ Number Days Payables = \\frac{365}{Payables Turnover Ratio} $$"
   ]
  },
  {
   "cell_type": "code",
   "execution_count": null,
   "metadata": {},
   "outputs": [],
   "source": []
  },
  {
   "cell_type": "markdown",
   "metadata": {},
   "source": [
    "##### Notes:\n",
    "\n",
    "When estimating this measures we need to consider a number of different factors such as the historical trend of a given ratio and the industry norms for that specific indicator."
   ]
  },
  {
   "cell_type": "code",
   "execution_count": 40,
   "metadata": {},
   "outputs": [],
   "source": [
    "assets = {\n",
    "    '2020' : {\n",
    "        'cash' : 1,\n",
    "        'marketable_securities' : 1,\n",
    "        'accounts_receivable' : 1\n",
    "    },\n",
    "    '2021' : {\n",
    "        'cash' : 1,\n",
    "        'marketable_securities' : 1,\n",
    "        'accounts_receivable' : 1\n",
    "    }\n",
    "}\n",
    "liabilities = {\n",
    "    '2020' : {\n",
    "        'accounts_payable' : 1,\n",
    "        'accrued_expenses' : 1,\n",
    "        'notes_payable' : 1\n",
    "    },\n",
    "    '2021' : {\n",
    "        'accounts_payable' : 1,\n",
    "        'accrued_expenses' : 1,\n",
    "        'notes_payable' : 1\n",
    "    },\n",
    "}"
   ]
  },
  {
   "cell_type": "code",
   "execution_count": 41,
   "metadata": {},
   "outputs": [],
   "source": [
    "import matplotlib.pyplot as plt"
   ]
  },
  {
   "cell_type": "code",
   "execution_count": 42,
   "metadata": {},
   "outputs": [
    {
     "data": {
      "image/png": "[encoded data removed]",
      "text/plain": [
       "<Figure size 432x288 with 1 Axes>"
      ]
     },
     "metadata": {
      "needs_background": "light"
     },
     "output_type": "display_data"
    }
   ],
   "source": [
    "plt.plot([2020, 2021], \\\n",
    "         [quick_ratio(assets['2020'], liabilities['2020']), \\\n",
    "         quick_ratio(assets['2021'], liabilities['2021'])]\n",
    "        )\n",
    "plt.xticks([2020, 2021]);"
   ]
  }
 ],
 "metadata": {
  "kernelspec": {
   "display_name": "Python 3",
   "language": "python",
   "name": "python3"
  },
  "language_info": {
   "codemirror_mode": {
    "name": "ipython",
    "version": 3
   },
   "file_extension": ".py",
   "mimetype": "text/x-python",
   "name": "python",
   "nbconvert_exporter": "python",
   "pygments_lexer": "ipython3",
   "version": "3.8.3"
  }
 },
 "nbformat": 4,
 "nbformat_minor": 4
}
