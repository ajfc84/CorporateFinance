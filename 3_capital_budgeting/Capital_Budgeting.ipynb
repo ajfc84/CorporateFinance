{
 "cells": [
  {
   "cell_type": "markdown",
   "metadata": {},
   "source": [
    "# Capital Budgeting\n",
    "\n",
    "###### An investment assessment method applied for large and risky investments. The investment decision is irreversible and is likely to impact the business in the long run."
   ]
  },
  {
   "cell_type": "markdown",
   "metadata": {},
   "source": [
    "### Project Classification\n",
    "\n",
    "$$\n",
    "\\Rightarrow \\text{Replacement projects} \\\\\n",
    "\\Rightarrow \\text{Expansion projects} \\\\\n",
    "\\Rightarrow \\text{New products and services} \\\\\n",
    "\\Rightarrow \\text{Regulatory, safety, and environmental projects} \\\\\n",
    "\\Rightarrow \\text{Other projects}\n",
    "$$\n",
    "\n",
    "### Basic Principles of Capital Budgeting\n",
    "\n",
    "$$\n",
    "\\text{1. Decisions are based on cash flows} \\\\\n",
    "\\text{2. Cash flows revolve around the concept of opportunity cost} \\\\\n",
    "\\text{3. Timing of cash flow is crucial} \\\\\n",
    "\\text{4. Cash flows are analysed on an after tax basis} \\\\\n",
    "\\text{5. Financing costs are reflected in a project's required rate of return}\n",
    "$$"
   ]
  },
  {
   "cell_type": "markdown",
   "metadata": {},
   "source": [
    "##### Notes:\n",
    "\n",
    "$$\n",
    "\\text{Conventional cash flows} \\\\\n",
    "\\Rightarrow \\text{one negative outflow at the start followed by positive cash inflows} \\\\\n",
    "\\text{Unconventional cash flows} \\\\\n",
    "\\Rightarrow \\text{when a negative cash flow is not followed by positive inflows only but cash flows could flip from positive to negative again.} \\\\\n",
    "\\text{Opportunity costs} \\\\\n",
    "\\Rightarrow \\text{The loss of other benefits or missing on future opportunities when one alternative(a particular project) is chosen}\n",
    "$$"
   ]
  },
  {
   "cell_type": "markdown",
   "metadata": {},
   "source": [
    "### Net Present Value (NPV)\n",
    "\n",
    "#### Used to dermine the profitability of different types of investments\n",
    "\n",
    "$$\n",
    "NPV = \\sum_{t=0}^{N} \\frac{CF_t}{(1+r)^t} \\\\\n",
    "CF_t = \\text{Expected net cash flow at time }t \\\\\n",
    "N = \\text{Projected lifetime of an investment} \\\\\n",
    "r = \\text{Discount rate (opportunity cost of capital)} \\\\\n",
    "$$"
   ]
  },
  {
   "cell_type": "code",
   "execution_count": 1,
   "metadata": {},
   "outputs": [],
   "source": [
    "# numpy_financial.npv(r, net_cash_flows)\n",
    "def npv(r, net_cash_flows):\n",
    "    sum = 0\n",
    "    for t in range(len(net_cash_flows)):\n",
    "        sum += net_cash_flows[t]/(1+r)**t\n",
    "    return sum"
   ]
  },
  {
   "cell_type": "code",
   "execution_count": 2,
   "metadata": {},
   "outputs": [],
   "source": [
    "# Data example\n",
    "cash_flows = [-150e+6, 70e+6, 70e+6, 70e+6]\n",
    "r = 0.09"
   ]
  },
  {
   "cell_type": "code",
   "execution_count": 3,
   "metadata": {},
   "outputs": [
    {
     "name": "stdout",
     "output_type": "stream",
     "text": [
      "NPV = 27190627\n"
     ]
    }
   ],
   "source": [
    "print(\"NPV = \" + str(round(npv(r, cash_flows))))"
   ]
  },
  {
   "cell_type": "markdown",
   "metadata": {},
   "source": [
    "###### Notes:\n",
    "\n",
    "$$\n",
    "\\text{There is a strong correlation between Capital Budgeting projections and Share Price fluctuations} \\\\\n",
    "\\text{NPV is the net change in shareholder's wealth as a result of choosing a particular investment.} \\\\\n",
    "NPV > 0 = \\text{Investment adds value} \\\\\n",
    "NPV < 0 = \\text{Investment destroys wealth} \\\\\n",
    "Inflows = + NPV \\\\\n",
    "Outflows = - NPV \\\\\n",
    "NPV=PV_{Future Cashflow}-InitialInvestment\n",
    "$$"
   ]
  },
  {
   "cell_type": "markdown",
   "metadata": {},
   "source": [
    "## Internat Rate of Return (IRR)\n",
    "\n",
    "#### The discount rate that makes the net present value equal to zero.\n",
    "\n",
    "$$\n",
    "\\Rightarrow \\text{A single discount rate which summarizes the merits  of a project} \\\\\n",
    "\\Rightarrow \\text{Doesn't depend on market interest rates} \\\\\n",
    "\\Rightarrow \\text{Depends on the project's cash flows}\n",
    "\\\\\n",
    "\\sum_{t=1}^{n} \\frac{CF_t}{(1+IRR)^t} = Outlay \\equiv\n",
    "\\sum_{t=1}^{n} \\frac{CF_t}{(1+IRR)^t} - Outlay = 0 \\\\\n",
    "CF_t = \\text{Project's future cash flows} \\\\\n",
    "IRR = \\text{Internal rate of return} \\\\\n",
    "Outlay = \\text{Initial investment cost)} \\\\\n",
    "$$"
   ]
  },
  {
   "cell_type": "code",
   "execution_count": 4,
   "metadata": {},
   "outputs": [],
   "source": [
    "import numpy_financial as npf"
   ]
  },
  {
   "cell_type": "code",
   "execution_count": 5,
   "metadata": {},
   "outputs": [],
   "source": [
    "cash_flows = [-150e+6, 70e+6, 70e+6, 70e+6]"
   ]
  },
  {
   "cell_type": "code",
   "execution_count": 6,
   "metadata": {},
   "outputs": [
    {
     "name": "stdout",
     "output_type": "stream",
     "text": [
      "IRR = 0.19\n"
     ]
    }
   ],
   "source": [
    "print('IRR = ' + str(round(npf.irr(cash_flows), 2)))"
   ]
  },
  {
   "cell_type": "markdown",
   "metadata": {},
   "source": [
    "##### Notes:\n",
    "\n",
    "$$\n",
    "\\sum_{t=0}^{N} \\frac{CF_t}{(1+IRR)^t} = 0 \\\\\n",
    "\\text{Invest if: } IRR > r \\\\\n",
    "\\text{Do not invest if: } IRR < r \\\\\n",
    "\\text{Stay indiferent if: } IRR == r \\\\\n",
    "\\text{For Mutually Exclusive projects of different Scales we should prioritize NPV over IRR}\n",
    "$$"
   ]
  },
  {
   "cell_type": "markdown",
   "metadata": {},
   "source": [
    "### NPV Profile\n",
    "\n",
    "#### Relationship between NPV and Discount rates"
   ]
  },
  {
   "cell_type": "code",
   "execution_count": 7,
   "metadata": {},
   "outputs": [],
   "source": [
    "import matplotlib.pyplot as plt"
   ]
  },
  {
   "cell_type": "code",
   "execution_count": 23,
   "metadata": {},
   "outputs": [
    {
     "data": {
      "image/png": "[encoded data removed]",
      "text/plain": [
       "<Figure size 432x288 with 1 Axes>"
      ]
     },
     "metadata": {
      "needs_background": "light"
     },
     "output_type": "display_data"
    }
   ],
   "source": [
    "discount_rates = [0.0, 0.05, 0.1, 0.15, 0.2, 0.25, 0.3, 0.35, 0.4]\n",
    "npv_values = []\n",
    "for r in discount_rates:\n",
    "    npv_values.append(round(npv(r, cash_flows)))\n",
    "plt.plot(discount_rates, npv_values, 'b');\n",
    "irr = 0.1891\n",
    "plt.plot(irr, round(npv(irr, cash_flows)), 'ro');"
   ]
  },
  {
   "cell_type": "markdown",
   "metadata": {},
   "source": [
    "### Compare NPV and IRR\n",
    "\n",
    "$$\n",
    "\\text{Independent Projects} \\Rightarrow \\text{NPV and IRR point in the same direction} \\\\\n",
    "\\text{Mutually Exclusive Projects} \\Rightarrow \\text{} \\text{give conflicting results:} \\\\\n",
    "\\text{When we compare projects of different size} \\\\\n",
    "\\text{When project cash flows have different timing} \\\\\n",
    "\\text{Uncoventional Structure Projects} \\Rightarrow \\text{IRR cannot be used:} \\\\\n",
    "\\text{When a project has multiple IRRs} \\\\\n",
    "\\text{When IRR is non-existent} \\\\\n",
    "$$"
   ]
  },
  {
   "cell_type": "code",
   "execution_count": 22,
   "metadata": {},
   "outputs": [
    {
     "data": {
      "image/png": "[encoded data removed]",
      "text/plain": [
       "<Figure size 432x288 with 1 Axes>"
      ]
     },
     "metadata": {
      "needs_background": "light"
     },
     "output_type": "display_data"
    }
   ],
   "source": [
    "# Data example\n",
    "cash_flows_p1 = [-400e+3, 250e+3, 250e+3, 250e+3, 250e+3, 250e+3]\n",
    "cash_flows_p2 = [-800e+3, 425e+3, 425e+3, 425e+3, 425e+3, 425e+3]\n",
    "discount_rates = [0.0, 0.05, 0.1, 0.15, 0.2, 0.25, 0.3, 0.35, 0.4, 0.5, 0.6]\n",
    "npv_values_p1 = []\n",
    "npv_values_p2 = []\n",
    "for r in discount_rates:\n",
    "    npv_values_p1.append(round(npv(r, cash_flows_p1)))\n",
    "    npv_values_p2.append(round(npv(r, cash_flows_p2)))\n",
    "plt.plot(discount_rates, npv_values_p1, 'r')\n",
    "plt.plot(discount_rates, npv_values_p2, 'b');"
   ]
  },
  {
   "cell_type": "markdown",
   "metadata": {},
   "source": [
    "##### Notes:\n",
    "\n",
    "$$\n",
    "\\text{Crossover Rate = the point where the two NPV projections lines cross.} \\\\\n",
    "\\text{Independent Projects = the decision to invest in a particular project does not affect the decision whether to engage with another.} \\\\\n",
    "\\text{Mutually Exclusive Projects = when a company can only choose one pro|ject.} \\\\\n",
    "\\text{Conventional Structure Projects = the timeline starts with a negative cashflow followed by one or more positive cashflows} \\\\\n",
    "\\text{Unconventional Structure Projects or fliplops = the timeline shows more than one change in sign(+/-)} \\\\\n",
    "$$"
   ]
  },
  {
   "cell_type": "markdown",
   "metadata": {},
   "source": [
    "### Payback Period\n",
    "\n",
    "#### The amount of time it takes to pay back and initial investment.\n",
    "\n",
    "$$\n",
    "CashFlowsAlgebraicSum + n-th cash flow / m-th cash flow \\\\\n",
    "\\\\\n",
    "Drawbacks:\\\\\n",
    "\\Rightarrow \\text{Does not take into consideration the entire duration of the project} \\\\\n",
    "\\Rightarrow \\text{The time value of money is not taken into account}\\\\\n",
    "Advantages:\\\\\n",
    "\\Rightarrow \\text{Simple to use} \\\\\n",
    "\\Rightarrow \\text{Liquidity measure} \\\\\n",
    "\\Rightarrow \\text{Preferable when a company faces liquidity issues} \\\\\n",
    "\\Rightarrow \\text{Favors investments that free up cash quickly}\n",
    "$$"
   ]
  },
  {
   "cell_type": "markdown",
   "metadata": {},
   "source": [
    "##### Notes:\n",
    "\n",
    "To be used in conjunction with NPV and IRR"
   ]
  },
  {
   "cell_type": "markdown",
   "metadata": {},
   "source": [
    "### Discounted Payback Period (DPBP)\n",
    "\n",
    "$$\n",
    "\\text{Advantages(over Payback Period):} \\\\\n",
    "\\Rightarrow \\text{How long does it take for them to recover the initial investment?} \\\\\n",
    "\\Rightarrow \\text{Discounts the project's cash flows} \\\\\n",
    "\\Rightarrow \\text{Takes into consideration the time value of money} \\\\\n",
    "\\text{Drawbacks:} \\\\\n",
    "\\Rightarrow \\text{Does not take into consideration the entire duration of the project}\n",
    "\\Rightarrow \\text{To be used as a Liquidity measure and not as a Profitability indicator}\n",
    "$$"
   ]
  },
  {
   "cell_type": "markdown",
   "metadata": {},
   "source": [
    "##### Notes:\n",
    "\n",
    "To be used in conjunction with NPV and IRR"
   ]
  },
  {
   "cell_type": "markdown",
   "metadata": {},
   "source": [
    "### Average Account Rate of Return (AAR)\n",
    "\n",
    "$$\n",
    "AAR = \\frac{Average Net Income}{Average Book Value}\n",
    "\\\\\n",
    "\\text{Drawbacks:} \\\\\n",
    "\\Rightarrow ARR \\neq \\text{Rate of return(i.e., Does not take into account the time value of money)} \\\\\n",
    "\\Rightarrow \\text{Not clearly defined cut-off period} \\\\\n",
    "\\Rightarrow \\text{Does not compare the right elements}\n",
    "\\text{Advantages} \\\\\n",
    "\\Rightarrow \\text{Easy to calculate} \\\\\n",
    "\\Rightarrow \\text{Required information is readily available} \\\\\n",
    "\\Rightarrow \\text{Managers can evaluate wheather an investment is profitable enough to justify further evaluation}\n",
    "$$"
   ]
  },
  {
   "cell_type": "code",
   "execution_count": 10,
   "metadata": {},
   "outputs": [],
   "source": [
    "def arr(average_net_income, average_book_value):\n",
    "    return average_net_income / average_book_value"
   ]
  },
  {
   "cell_type": "code",
   "execution_count": 11,
   "metadata": {},
   "outputs": [],
   "source": [
    "# Data example (Income Statement)\n",
    "sales = [75000, 95000, 85000, 20000]\n",
    "cash_expenditure = [25000, 35000, 35000, 10000]\n",
    "depreciation = [25000, 25000, 25000, 25000]\n",
    "ebt = [25000, 35000, 25000, -15000]\n",
    "taxes_40 = [10000, 14000, 10000, -6000] # Taxes @ 40%\n",
    "net_income = [15000, 21000, 15000, -9000]\n",
    "initial_project_investment = 100000\n",
    "ending_value = 0\n",
    "avg_book_value = (initial_project_investment + ending_value) / 2 # ?depreciation expense?"
   ]
  },
  {
   "cell_type": "code",
   "execution_count": 12,
   "metadata": {},
   "outputs": [],
   "source": [
    "import numpy as np"
   ]
  },
  {
   "cell_type": "code",
   "execution_count": 13,
   "metadata": {},
   "outputs": [
    {
     "name": "stdout",
     "output_type": "stream",
     "text": [
      "0\n"
     ]
    }
   ],
   "source": [
    "print(round(arr(np.average(net_income), avg_book_value)))"
   ]
  },
  {
   "cell_type": "markdown",
   "metadata": {},
   "source": [
    "##### Notes:\n",
    "\n",
    "To be used in conjunction with NPV and IRR\n",
    "\n",
    "$$\n",
    "Average Book Value = (Beginning Book Value - Ending Book Value) / 2 \\\\\n",
    "\\text{Strait-line depreciation method, Zero salvage value} \\Rightarrow \\text{Average book value = 1/2 of the investment}\n",
    "$$"
   ]
  },
  {
   "cell_type": "markdown",
   "metadata": {},
   "source": [
    "### Profitablity Index(PI)\n",
    "\n",
    "#### Benefit-to-cost ratio\n",
    "\n",
    "$$\n",
    "PI=\\frac{PV Of Future Cash Flows}{Initial Investment}=1+\\frac{NPV}{Initial Investment} \\\\\n",
    "\\text{Invest if: } PI > 1.0 \\\\\n",
    "\\text{Do not invest if: } PI < 1.0 \\\\\n",
    "\\text{Advantage:} \\\\\n",
    "\\Rightarrow \\text{Straightforward approach} \\\\\n",
    "\\Rightarrow \\text{Takes into consideration the time value of money} \\\\\n",
    "\\Rightarrow \\text{Facilitates capital rationing} \\\\\n",
    "\\text{Drawbacks:} \\\\\n",
    "\\Rightarrow \\text{Can lead to incorrect decisions when comparing mutually exclusive investments}\n",
    "$$"
   ]
  },
  {
   "cell_type": "code",
   "execution_count": 14,
   "metadata": {},
   "outputs": [],
   "source": [
    "def pi(pv_cashflows, initial_investment):\n",
    "    return pv_cashflows / initial_investment\n",
    "def present_value_cf(cashflows, r):\n",
    "    sum = 0\n",
    "    for t in range(1, len(cashflows)+1):\n",
    "        i = t-1 # arrays start at 0\n",
    "        sum += cashflows[i] / (1 + r)**t\n",
    "    return sum"
   ]
  },
  {
   "cell_type": "code",
   "execution_count": 15,
   "metadata": {},
   "outputs": [
    {
     "name": "stdout",
     "output_type": "stream",
     "text": [
      "PI = 1.18\n"
     ]
    }
   ],
   "source": [
    "# Data example\n",
    "initial_investment = 150e+6\n",
    "cash_flows = [70e+6, 70e+6, 70e+6]\n",
    "r = 0.09\n",
    "print('PI = ' + str(round(pi(present_value_cf(cash_flows, r), initial_investment), 2)))"
   ]
  },
  {
   "cell_type": "markdown",
   "metadata": {},
   "source": [
    "##### Notes:\n",
    "\n",
    "$$\n",
    "PI=NPV_{per $ invested}\n",
    "$$"
   ]
  }
 ],
 "metadata": {
  "kernelspec": {
   "display_name": "Python 3",
   "language": "python",
   "name": "python3"
  },
  "language_info": {
   "codemirror_mode": {
    "name": "ipython",
    "version": 3
   },
   "file_extension": ".py",
   "mimetype": "text/x-python",
   "name": "python",
   "nbconvert_exporter": "python",
   "pygments_lexer": "ipython3",
   "version": "3.8.3"
  }
 },
 "nbformat": 4,
 "nbformat_minor": 4
}
