{
 "cells": [
  {
   "cell_type": "code",
   "execution_count": 5,
   "metadata": {},
   "outputs": [],
   "source": [
    "#data1 = [-5000, 2500, 3500]\n",
    "#data2 = [-3000, 1500, 2500]\n",
    "#r = 0.07\n",
    "#data = [-5000, 3500, 2000, 1500, 1000, 500]\n",
    "data = [-5000, 3500, 2000, 1500]\n",
    "r = 0.1"
   ]
  },
  {
   "cell_type": "code",
   "execution_count": 3,
   "metadata": {},
   "outputs": [],
   "source": [
    "def npv(data):\n",
    "    result = 0;\n",
    "    for t in range(0, len(data)):\n",
    "        result += data[t] / (1 + r)**t\n",
    "        \n",
    "    return result"
   ]
  },
  {
   "cell_type": "code",
   "execution_count": 6,
   "metadata": {},
   "outputs": [
    {
     "name": "stdout",
     "output_type": "stream",
     "text": [
      "961.6829451540186\n"
     ]
    }
   ],
   "source": [
    "#print(npv(data1))\n",
    "#print(npv(data2))\n",
    "print(npv(data))"
   ]
  },
  {
   "cell_type": "code",
   "execution_count": null,
   "metadata": {},
   "outputs": [],
   "source": []
  }
 ],
 "metadata": {
  "kernelspec": {
   "display_name": "Python 3",
   "language": "python",
   "name": "python3"
  },
  "language_info": {
   "codemirror_mode": {
    "name": "ipython",
    "version": 3
   },
   "file_extension": ".py",
   "mimetype": "text/x-python",
   "name": "python",
   "nbconvert_exporter": "python",
   "pygments_lexer": "ipython3",
   "version": "3.8.3"
  }
 },
 "nbformat": 4,
 "nbformat_minor": 4
}
