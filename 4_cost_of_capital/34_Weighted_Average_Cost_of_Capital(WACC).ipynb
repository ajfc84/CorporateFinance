{
 "cells": [
  {
   "cell_type": "markdown",
   "metadata": {},
   "source": [
    "# Weighted Average Cost of Capital(WACC) / Marginal Cost of Capital (MCC)\n",
    "\n",
    "### Investment Project (aquire of capital components)\n",
    "$$\n",
    "\\Rightarrow \\text{Debt}\\\\\n",
    "\\Rightarrow \\text{Equity}\\\\\n",
    "\\Rightarrow \\text{Preferred Equity}\n",
    "(i.e. instruments that share the same characteristics of both Debt and Equity)\\\\\n",
    "$$\n",
    "### Cost of Capital / Opportunity Cost / Next best use of Capital\n",
    "$$\\Rightarrow \\text{Rate of Return investors demand on average as compensation to invest in the company}$$"
   ]
  },
  {
   "cell_type": "markdown",
   "metadata": {},
   "source": [
    "$$ \\Large{WACC} = w_d r_d (1 - t) + w_p r_p + w_e r_e \\\\\n",
    "w_d = \\text{the proportion of debt that the company uses when raising additional capital} \\\\\n",
    "w_p = \\text{the proportion of prefered stock that the company uses when raising additional capital} \\\\\n",
    "w_e = \\text{the proportion of equity that the company uses when raising additional capital} \\\\\n",
    "r_d = \\text{the before tax marginal cost of debt} \\\\\n",
    "r_p = \\text{the marginal cost of preferred stock} \\\\\n",
    "r_e = \\text{the marginal cost of equity} \\\\\n",
    "t = \\text{the company's marginal tax rate}\n",
    "$$"
   ]
  },
  {
   "cell_type": "code",
   "execution_count": 1,
   "metadata": {},
   "outputs": [],
   "source": [
    "# Weighted Average Cost of Capital\n",
    "def wacc(w_d, w_p, w_e, r_d, r_p, r_e, t):\n",
    "    return w_d*r_d*(1-t) + w_p*r_p + w_e*r_e\n",
    "\n",
    "# Marginal Cost of Capital\n",
    "def mcc(w_d, w_p, w_e, r_d, r_p, r_e, t):\n",
    "    return wacc(w_d, w_p, w_e, r_d, r_p, r_e, t)"
   ]
  },
  {
   "cell_type": "code",
   "execution_count": 2,
   "metadata": {},
   "outputs": [],
   "source": [
    "# Data Example\n",
    "w_d = 0.45\n",
    "w_p = 0.15\n",
    "w_e = 0.40\n",
    "r_d = 0.06\n",
    "r_p = 0.08\n",
    "r_e = 0.09\n",
    "t = 0.4"
   ]
  },
  {
   "cell_type": "code",
   "execution_count": 6,
   "metadata": {},
   "outputs": [
    {
     "name": "stdout",
     "output_type": "stream",
     "text": [
      "0.0642\n"
     ]
    }
   ],
   "source": [
    "print(wacc(w_d, w_p, w_e, r_d, r_p, r_e, t))"
   ]
  },
  {
   "cell_type": "markdown",
   "metadata": {},
   "source": [
    "###### Notes:\n",
    "$$ r_d (1 - t) \\Rightarrow \\text{After tax Cost of Debt}$$"
   ]
  }
 ],
 "metadata": {
  "kernelspec": {
   "display_name": "Python 3",
   "language": "python",
   "name": "python3"
  },
  "language_info": {
   "codemirror_mode": {
    "name": "ipython",
    "version": 3
   },
   "file_extension": ".py",
   "mimetype": "text/x-python",
   "name": "python",
   "nbconvert_exporter": "python",
   "pygments_lexer": "ipython3",
   "version": "3.8.3"
  }
 },
 "nbformat": 4,
 "nbformat_minor": 4
}
